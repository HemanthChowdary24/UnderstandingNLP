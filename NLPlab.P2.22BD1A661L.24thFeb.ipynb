{
  "nbformat": 4,
  "nbformat_minor": 0,
  "metadata": {
    "colab": {
      "provenance": []
    },
    "kernelspec": {
      "name": "python3",
      "display_name": "Python 3"
    },
    "language_info": {
      "name": "python"
    }
  },
  "cells": [
    {
      "cell_type": "markdown",
      "source": [
        "# Eperiment 2  \n",
        "Program - Using Python libraries, download Wikipedia's page on open source and tokenize the text, remove the stop words. What percentage of the page is stop words?\n"
      ],
      "metadata": {
        "id": "T9QQTS3iqPVk"
      }
    },
    {
      "cell_type": "code",
      "source": [
        "# The statement import requests is used to import the requests library in Python, which allows you to make HTTP requests to interact with we services, API's, and websites\n",
        "import requests"
      ],
      "metadata": {
        "id": "KHFQmRkyrD_I"
      },
      "execution_count": 1,
      "outputs": []
    },
    {
      "cell_type": "code",
      "source": [
        "url = \"https://en.wikipedia.org/api/rest_v1/page/summary/Natural_language_processing\"\n",
        "#sending HTTP GET request\n",
        "response = requests.get(url)\n",
        "#convert the response to JSON format\n",
        "data = response.json()\n",
        "# Extract the content\n",
        "text = data[\"extract\"]"
      ],
      "metadata": {
        "id": "kJUxxcjorxaQ"
      },
      "execution_count": 12,
      "outputs": []
    },
    {
      "cell_type": "code",
      "source": [
        "print(text)"
      ],
      "metadata": {
        "colab": {
          "base_uri": "https://localhost:8080/"
        },
        "id": "oDTfetJVsYVt",
        "outputId": "6be173cf-9004-4ba5-ceed-5e7d098b923f"
      },
      "execution_count": 13,
      "outputs": [
        {
          "output_type": "stream",
          "name": "stdout",
          "text": [
            "Natural language processing (NLP) is a subfield of computer science and especially artificial intelligence. It is primarily concerned with providing computers with the ability to process data encoded in natural language and is thus closely related to information retrieval, knowledge representation and computational linguistics, a subfield of linguistics.\n"
          ]
        }
      ]
    },
    {
      "cell_type": "code",
      "source": [
        "import spacy\n",
        "# load a spacy english model\n",
        "nlp = spacy.load(\"en_core_web_sm\")"
      ],
      "metadata": {
        "id": "-mz4z3DSuV60"
      },
      "execution_count": 15,
      "outputs": []
    },
    {
      "cell_type": "code",
      "source": [
        "# process the extracted text and store in the doc object\n",
        "doc = nlp(text)"
      ],
      "metadata": {
        "id": "rCjLuannu-za"
      },
      "execution_count": 16,
      "outputs": []
    },
    {
      "cell_type": "code",
      "source": [
        "tokens = [token.text for token in doc] # Tokenizing the text\n",
        "stop_words = [token.text for token in doc if token.is_stop] # Extracting stop words"
      ],
      "metadata": {
        "id": "71pb6CO6vbIW"
      },
      "execution_count": 17,
      "outputs": []
    },
    {
      "cell_type": "code",
      "source": [
        "print(tokens) # print the list of tokens\n",
        "print(stop_words) # to print the list of stop words"
      ],
      "metadata": {
        "colab": {
          "base_uri": "https://localhost:8080/"
        },
        "id": "iOdRLNKCvsVO",
        "outputId": "b7921436-346a-4732-c757-b25bdddc5da3"
      },
      "execution_count": 20,
      "outputs": [
        {
          "output_type": "stream",
          "name": "stdout",
          "text": [
            "['Natural', 'language', 'processing', '(', 'NLP', ')', 'is', 'a', 'subfield', 'of', 'computer', 'science', 'and', 'especially', 'artificial', 'intelligence', '.', 'It', 'is', 'primarily', 'concerned', 'with', 'providing', 'computers', 'with', 'the', 'ability', 'to', 'process', 'data', 'encoded', 'in', 'natural', 'language', 'and', 'is', 'thus', 'closely', 'related', 'to', 'information', 'retrieval', ',', 'knowledge', 'representation', 'and', 'computational', 'linguistics', ',', 'a', 'subfield', 'of', 'linguistics', '.']\n",
            "['is', 'a', 'of', 'and', 'It', 'is', 'with', 'with', 'the', 'to', 'in', 'and', 'is', 'thus', 'to', 'and', 'a', 'of']\n"
          ]
        }
      ]
    },
    {
      "cell_type": "code",
      "source": [
        "total_tokens = len(tokens) # count of total number of tokens\n",
        "stop_word_count = len(stop_words) # count the number of stop words\n",
        "percentage_stop_words = (stop_word_count / total_tokens) * 100\n",
        "print(\"total number of words:\",total_tokens)\n",
        "print(\"total numer of stop words:\",stop_word_count)\n",
        "print(\"percentage of stop words in the given text:\",percentage_stop_words)"
      ],
      "metadata": {
        "colab": {
          "base_uri": "https://localhost:8080/"
        },
        "id": "Cpe2Ys-qvy2y",
        "outputId": "60e02272-d579-43c0-8a29-a6668abebf62"
      },
      "execution_count": 24,
      "outputs": [
        {
          "output_type": "stream",
          "name": "stdout",
          "text": [
            "total number of words: 54\n",
            "total numer of stop words: 18\n",
            "percentage of stop words in the given text: 33.33333333333333\n"
          ]
        }
      ]
    },
    {
      "cell_type": "code",
      "source": [],
      "metadata": {
        "id": "_8pl2UWJwJzR"
      },
      "execution_count": null,
      "outputs": []
    }
  ]
}